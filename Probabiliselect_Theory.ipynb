{
  "nbformat": 4,
  "nbformat_minor": 0,
  "metadata": {
    "colab": {
      "provenance": [],
      "authorship_tag": "ABX9TyNntvhvDn7UGR8FIhXD0viz",
      "include_colab_link": true
    },
    "kernelspec": {
      "name": "python3",
      "display_name": "Python 3"
    },
    "language_info": {
      "name": "python"
    }
  },
  "cells": [
    {
      "cell_type": "markdown",
      "metadata": {
        "id": "view-in-github",
        "colab_type": "text"
      },
      "source": [
        "<a href=\"https://colab.research.google.com/github/jamesadewara/Machine-Learning-Tutorials/blob/master/Probabiliselect_Theory.ipynb\" target=\"_parent\"><img src=\"https://colab.research.google.com/assets/colab-badge.svg\" alt=\"Open In Colab\"/></a>"
      ]
    },
    {
      "cell_type": "markdown",
      "source": [
        "![block game.png](data:image/png;base64,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)"
      ],
      "metadata": {
        "id": "IDmKa1hNDCaW"
      }
    },
    {
      "cell_type": "markdown",
      "source": [
        "**Theory of Probabiliselect:**\n",
        "*Probabiliselect is grounded in the theory of probability and selection. It proposes a unique approach by combining the inverse of permutation with the frequency of selected outcomes, providing a fresh perspective on scenarios requiring nuanced selection.*\n",
        "\n",
        "Definition:\n",
        "The theory posits that the probability (\n",
        "�\n",
        "(\n",
        "�\n",
        ")\n",
        "P(X)) of a selected outcome (\n",
        "�\n",
        "X) is determined by the inverse of the permutation of\n",
        "�\n",
        "X in a total number\n",
        "�\n",
        "n, multiplied by the frequency (\n",
        "�\n",
        "f) of\n",
        "�\n",
        "X and divided by the total number of outcomes (\n",
        "�\n",
        "T).\n",
        "\n",
        "Mathematical Representation:\n",
        "�\n",
        "(\n",
        "�\n",
        ")\n",
        "=\n",
        "1\n",
        "�\n",
        "⋅\n",
        "�\n",
        "�\n",
        "×\n",
        "�\n",
        "⋅\n",
        "�\n",
        "�\n",
        "P(X)=\n",
        "n⋅p\n",
        "X\n",
        "​\n",
        "\n",
        "1\n",
        "​\n",
        " ×\n",
        "T\n",
        "f⋅X\n",
        "​\n",
        "\n",
        "\n",
        "Where:\n",
        "\n",
        "�\n",
        "n is the total number of outcomes.\n",
        "�\n",
        "�\n",
        "p\n",
        "X\n",
        "​\n",
        "  is the permutation of\n",
        "�\n",
        "X in\n",
        "�\n",
        "n.\n",
        "�\n",
        "f is the frequency of\n",
        "�\n",
        "X.\n",
        "�\n",
        "T is the total number of outcomes.\n",
        "�\n",
        "X is the selected outcome.\n",
        "**bold text**"
      ],
      "metadata": {
        "id": "N3T9xyg-HFPo"
      }
    },
    {
      "cell_type": "markdown",
      "source": [
        "In a block game, there are 52 different shapes, ranging from horizontal to vertical blocks and those with varying numbers of squares. A player is tasked with calculating the probability of encountering a specific scenario: a green block, horizontally stacked with 8 squares. This arrangement spans four squares arranged vertically from the bottom to the top in an area space with a square length of 400 cm. The total number of displayed blocks includes a purple block, a blue block, and the horizontal blocks counted as one.\n",
        "\n",
        "Given Information:\n",
        "\n",
        "Total number of shapes (\n",
        "�\n",
        "n): 52\n",
        "Total number of displayed blocks (\n",
        "�\n",
        "T): 3 (purple, blue, horizontal)\n",
        "Frequency of the selected outcome (\n",
        "�\n",
        "f): 4\n",
        "Size of the area space: 400 cm (square length)\n",
        "Selected outcome (\n",
        "�\n",
        "X): Green block stacked horizontally with 8 squares\n",
        "Question:\n",
        "What is the probability of encountering the selected outcome, a green block stacked horizontally with 8 squares, in the given scenario?"
      ],
      "metadata": {
        "id": "O-BVQWT5HoCu"
      }
    },
    {
      "cell_type": "markdown",
      "source": [
        " answer approximately\n",
        "0.0000000023\n",
        "0.0000000023, or\n",
        "0.00000023\n",
        "%\n",
        "0.00000023%."
      ],
      "metadata": {
        "id": "jAIDY_kuKZI4"
      }
    },
    {
      "cell_type": "code",
      "source": [
        "import numpy as np\n",
        "import pandas as pd\n",
        "import matplotlib.pyplot as plt"
      ],
      "metadata": {
        "id": "TbyXgiuZHkOb"
      },
      "execution_count": 3,
      "outputs": []
    },
    {
      "cell_type": "code",
      "source": [
        "# Given information\n",
        "n = 52  # Total number of shapes\n",
        "T = 3   # Total number of displayed blocks (purple, blue, horizontal)\n",
        "f = 4   # Frequency of the selected outcome\n",
        "X = 1   # The selected outcome (optional  since its always 1)\n",
        "area_space_length = 400  # Square length in cm\n",
        "#P_X IS THE PROBABILITY OF SELECTING X\n",
        "\n",
        "# Calculate permutation\n",
        "p_X = np.math.factorial(n) / np.math.factorial(n - f)\n",
        "\n",
        "# Probabiliselect formula\n",
        "part_a_numerator = 1\n",
        "part_a_denominator = n * p_X\n",
        "part_b_numerator = f * X\n",
        "part_b_denominator = T\n",
        "P_X = (part_a_numerator / part_a_denominator) * (part_b_numerator / part_b_denominator)"
      ],
      "metadata": {
        "id": "CeKDVGsEKu8-"
      },
      "execution_count": 57,
      "outputs": []
    },
    {
      "cell_type": "code",
      "source": [
        "print(\"Probability of the selected outcome:\", P_X)\n"
      ],
      "metadata": {
        "colab": {
          "base_uri": "https://localhost:8080/"
        },
        "id": "bisIWqy5KxEN",
        "outputId": "ef89e78b-72cd-4027-fe5e-66347a61f995"
      },
      "execution_count": 55,
      "outputs": [
        {
          "output_type": "stream",
          "name": "stdout",
          "text": [
            "Probability of the selected outcome: 1.1958641564329994e-10\n"
          ]
        }
      ]
    },
    {
      "cell_type": "code",
      "source": [
        "# Visualization (Optional)\n",
        "df = pd.DataFrame({\"Probabilities\": [P_X, 1 - P_X]}, index=[\"Selected Outcome\", \"Other Outcomes\"])\n",
        "df.plot(kind=\"bar\", legend=False, color=['green', 'gray'])\n",
        "plt.title(\"Probabilities of Selected Outcome vs. Other Outcomes\")\n",
        "plt.ylabel(\"Probability\")\n",
        "plt.show()"
      ],
      "metadata": {
        "colab": {
          "base_uri": "https://localhost:8080/",
          "height": 566
        },
        "id": "Ni3sRRIEK0aj",
        "outputId": "bb607886-0aca-4424-d663-d023b046d6ea"
      },
      "execution_count": 56,
      "outputs": [
        {
          "output_type": "display_data",
          "data": {
            "text/plain": [
              "<Figure size 640x480 with 1 Axes>"
            ],
            "image/png": "[encoded data removed]"
          },
          "metadata": {}
        }
      ]
    }
  ]
}